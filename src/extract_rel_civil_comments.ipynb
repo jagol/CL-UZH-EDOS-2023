{
 "cells": [
  {
   "cell_type": "code",
   "execution_count": 1,
   "metadata": {},
   "outputs": [],
   "source": [
    "import pandas as pd\n",
    "from sklearn.utils import resample\n",
    "random_state = 42"
   ]
  },
  {
   "cell_type": "code",
   "execution_count": 2,
   "metadata": {},
   "outputs": [],
   "source": [
    "path = '/srv/scratch0/jgoldz/CL-UZH-EDOS-2023/data/JigsawUBiTC/all_data.csv'\n",
    "df = pd.read_csv(path)"
   ]
  },
  {
   "cell_type": "code",
   "execution_count": 3,
   "metadata": {},
   "outputs": [
    {
     "data": {
      "text/plain": [
       "Index(['id', 'comment_text', 'split', 'created_date', 'publication_id',\n",
       "       'parent_id', 'article_id', 'rating', 'funny', 'wow', 'sad', 'likes',\n",
       "       'disagree', 'toxicity', 'severe_toxicity', 'obscene', 'sexual_explicit',\n",
       "       'identity_attack', 'insult', 'threat', 'male', 'female', 'transgender',\n",
       "       'other_gender', 'heterosexual', 'homosexual_gay_or_lesbian', 'bisexual',\n",
       "       'other_sexual_orientation', 'christian', 'jewish', 'muslim', 'hindu',\n",
       "       'buddhist', 'atheist', 'other_religion', 'black', 'white', 'asian',\n",
       "       'latino', 'other_race_or_ethnicity', 'physical_disability',\n",
       "       'intellectual_or_learning_disability', 'psychiatric_or_mental_illness',\n",
       "       'other_disability', 'identity_annotator_count',\n",
       "       'toxicity_annotator_count'],\n",
       "      dtype='object')"
      ]
     },
     "execution_count": 3,
     "metadata": {},
     "output_type": "execute_result"
    }
   ],
   "source": [
    "df.columns"
   ]
  },
  {
   "cell_type": "code",
   "execution_count": 4,
   "metadata": {},
   "outputs": [],
   "source": [
    "attributes = [\n",
    "    'funny', 'wow', 'sad', 'likes', 'disagree', 'toxicity', \n",
    "    'severe_toxicity', 'obscene', 'sexual_explicit', 'identity_attack', \n",
    "    'insult', 'threat', 'male', 'female', 'transgender', 'other_gender', \n",
    "    'heterosexual', 'homosexual_gay_or_lesbian', 'bisexual', \n",
    "    'other_sexual_orientation', 'christian', 'jewish', 'muslim', 'hindu', \n",
    "    'buddhist', 'atheist', 'other_religion', 'black', 'white', 'asian', \n",
    "    'latino', 'other_race_or_ethnicity', 'physical_disability', \n",
    "    'intellectual_or_learning_disability', 'psychiatric_or_mental_illness', \n",
    "    'other_disability'\n",
    "]"
   ]
  },
  {
   "cell_type": "code",
   "execution_count": 5,
   "metadata": {},
   "outputs": [],
   "source": [
    "threshold = 0.7\n",
    "\n",
    "for att in attributes:\n",
    "    df[f\"{att}_binary\"] = df[att].apply(lambda x: 1 if x >= threshold else 0)"
   ]
  },
  {
   "cell_type": "code",
   "execution_count": 6,
   "metadata": {},
   "outputs": [
    {
     "data": {
      "text/plain": [
       "Index(['id', 'comment_text', 'split', 'created_date', 'publication_id',\n",
       "       'parent_id', 'article_id', 'rating', 'funny', 'wow', 'sad', 'likes',\n",
       "       'disagree', 'toxicity', 'severe_toxicity', 'obscene', 'sexual_explicit',\n",
       "       'identity_attack', 'insult', 'threat', 'male', 'female', 'transgender',\n",
       "       'other_gender', 'heterosexual', 'homosexual_gay_or_lesbian', 'bisexual',\n",
       "       'other_sexual_orientation', 'christian', 'jewish', 'muslim', 'hindu',\n",
       "       'buddhist', 'atheist', 'other_religion', 'black', 'white', 'asian',\n",
       "       'latino', 'other_race_or_ethnicity', 'physical_disability',\n",
       "       'intellectual_or_learning_disability', 'psychiatric_or_mental_illness',\n",
       "       'other_disability', 'identity_annotator_count',\n",
       "       'toxicity_annotator_count', 'funny_binary', 'wow_binary', 'sad_binary',\n",
       "       'likes_binary', 'disagree_binary', 'toxicity_binary',\n",
       "       'severe_toxicity_binary', 'obscene_binary', 'sexual_explicit_binary',\n",
       "       'identity_attack_binary', 'insult_binary', 'threat_binary',\n",
       "       'male_binary', 'female_binary', 'transgender_binary',\n",
       "       'other_gender_binary', 'heterosexual_binary',\n",
       "       'homosexual_gay_or_lesbian_binary', 'bisexual_binary',\n",
       "       'other_sexual_orientation_binary', 'christian_binary', 'jewish_binary',\n",
       "       'muslim_binary', 'hindu_binary', 'buddhist_binary', 'atheist_binary',\n",
       "       'other_religion_binary', 'black_binary', 'white_binary', 'asian_binary',\n",
       "       'latino_binary', 'other_race_or_ethnicity_binary',\n",
       "       'physical_disability_binary',\n",
       "       'intellectual_or_learning_disability_binary',\n",
       "       'psychiatric_or_mental_illness_binary', 'other_disability_binary'],\n",
       "      dtype='object')"
      ]
     },
     "execution_count": 6,
     "metadata": {},
     "output_type": "execute_result"
    }
   ],
   "source": [
    "df.columns"
   ]
  },
  {
   "cell_type": "code",
   "execution_count": 7,
   "metadata": {},
   "outputs": [
    {
     "name": "stdout",
     "output_type": "stream",
     "text": [
      "funny positive: 65021\n",
      "funny negative: 65021\n",
      "funny: 130042\n",
      "wow positive: 65021\n",
      "wow negative: 65021\n",
      "wow: 130042\n",
      "sad positive: 65021\n",
      "sad negative: 65021\n",
      "sad: 130042\n",
      "likes positive: 65021\n",
      "likes negative: 65021\n",
      "likes: 130042\n",
      "disagree positive: 65021\n",
      "disagree negative: 65021\n",
      "disagree: 130042\n",
      "toxicity positive: 65021\n",
      "toxicity negative: 65021\n",
      "toxicity: 130042\n",
      "severe_toxicity positive: 1\n",
      "severe_toxicity negative: 1\n",
      "severe_toxicity: 2\n",
      "obscene positive: 4095\n",
      "obscene negative: 4095\n",
      "obscene: 8190\n",
      "sexual_explicit positive: 1288\n",
      "sexual_explicit negative: 1288\n",
      "sexual_explicit: 2576\n",
      "identity_attack positive: 3134\n",
      "identity_attack negative: 3134\n",
      "identity_attack: 6268\n",
      "insult positive: 46294\n",
      "insult negative: 46294\n",
      "insult: 92588\n",
      "threat positive: 1457\n",
      "threat negative: 1457\n",
      "threat: 2914\n",
      "male positive: 39277\n",
      "male negative: 39277\n",
      "male: 78554\n",
      "female positive: 52040\n",
      "female negative: 52040\n",
      "female: 104080\n",
      "transgender positive: 2173\n",
      "transgender negative: 2173\n",
      "transgender: 4346\n",
      "other_gender positive: 1\n",
      "other_gender negative: 1\n",
      "other_gender: 2\n",
      "heterosexual positive: 938\n",
      "heterosexual negative: 938\n",
      "heterosexual: 1876\n",
      "homosexual_gay_or_lesbian positive: 10290\n",
      "homosexual_gay_or_lesbian negative: 10290\n",
      "homosexual_gay_or_lesbian: 20580\n",
      "bisexual positive: 141\n",
      "bisexual negative: 141\n",
      "bisexual: 282\n",
      "other_sexual_orientation positive: 1\n",
      "other_sexual_orientation negative: 1\n",
      "other_sexual_orientation: 2\n",
      "christian positive: 34389\n",
      "christian negative: 34389\n",
      "christian: 68778\n",
      "jewish positive: 7563\n",
      "jewish negative: 7563\n",
      "jewish: 15126\n",
      "muslim positive: 20243\n",
      "muslim negative: 20243\n",
      "muslim: 40486\n",
      "hindu positive: 432\n",
      "hindu negative: 432\n",
      "hindu: 864\n",
      "buddhist positive: 442\n",
      "buddhist negative: 442\n",
      "buddhist: 884\n",
      "atheist positive: 1382\n",
      "atheist negative: 1382\n",
      "atheist: 2764\n",
      "other_religion positive: 50\n",
      "other_religion negative: 50\n",
      "other_religion: 100\n",
      "black positive: 14130\n",
      "black negative: 14130\n",
      "black: 28260\n",
      "white positive: 24458\n",
      "white negative: 24458\n",
      "white: 48916\n",
      "asian positive: 3054\n",
      "asian negative: 3054\n",
      "asian: 6108\n",
      "latino positive: 1271\n",
      "latino negative: 1271\n",
      "latino: 2542\n",
      "other_race_or_ethnicity positive: 95\n",
      "other_race_or_ethnicity negative: 95\n",
      "other_race_or_ethnicity: 190\n",
      "physical_disability positive: 17\n",
      "physical_disability negative: 17\n",
      "physical_disability: 34\n",
      "intellectual_or_learning_disability positive: 24\n",
      "intellectual_or_learning_disability negative: 24\n",
      "intellectual_or_learning_disability: 48\n",
      "psychiatric_or_mental_illness positive: 3513\n",
      "psychiatric_or_mental_illness negative: 3513\n",
      "psychiatric_or_mental_illness: 7026\n",
      "other_disability: 0 examples over threshold 0.7. Skipping attribute.\n"
     ]
    }
   ],
   "source": [
    "max_num = 65021  # maximum number of examples per value in [0, 1]\n",
    "list_of_df_atts = []\n",
    "for att in attributes:\n",
    "    df_att_positive = df[df[f'{att}_binary'] == 1].copy()\n",
    "    if len(df_att_positive) >= max_num:\n",
    "        df_att_positive = df_att_positive.sample(max_num, random_state=1).copy()\n",
    "    if len(df_att_positive) == 0:\n",
    "        print(f'{att}: 0 examples over threshold {threshold}. Skipping attribute.')\n",
    "        continue\n",
    "    print(f'{att} positive: {len(df_att_positive)}')\n",
    "    try:\n",
    "        df_att_negative = df[df[f'{att}_binary'] == 0].sample(len(df_att_positive), random_state=1).copy()\n",
    "    except:\n",
    "        print(att)\n",
    "        df_att_negative = df[df[f'{att}_binary'] == 0]\n",
    "    print(f'{att} negative: {len(df_att_negative)}')\n",
    "    df_att = pd.concat([df_att_positive, df_att_negative])\n",
    "    print(f'{att}: {len(df_att)}')\n",
    "    df_att = df_att[['id', 'comment_text', f'{att}_binary', att]]\n",
    "    list_of_df_atts.append(df_att)"
   ]
  },
  {
   "cell_type": "code",
   "execution_count": 8,
   "metadata": {},
   "outputs": [
    {
     "name": "stdout",
     "output_type": "stream",
     "text": [
      "Index(['id', 'comment_text', 'funny_binary', 'funny'], dtype='object') 130042\n",
      "Index(['id', 'comment_text', 'wow_binary', 'wow'], dtype='object') 130042\n",
      "Index(['id', 'comment_text', 'sad_binary', 'sad'], dtype='object') 130042\n",
      "Index(['id', 'comment_text', 'likes_binary', 'likes'], dtype='object') 130042\n",
      "Index(['id', 'comment_text', 'disagree_binary', 'disagree'], dtype='object') 130042\n",
      "Index(['id', 'comment_text', 'toxicity_binary', 'toxicity'], dtype='object') 130042\n",
      "Index(['id', 'comment_text', 'severe_toxicity_binary', 'severe_toxicity'], dtype='object') 2\n",
      "Index(['id', 'comment_text', 'obscene_binary', 'obscene'], dtype='object') 8190\n",
      "Index(['id', 'comment_text', 'sexual_explicit_binary', 'sexual_explicit'], dtype='object') 2576\n",
      "Index(['id', 'comment_text', 'identity_attack_binary', 'identity_attack'], dtype='object') 6268\n",
      "Index(['id', 'comment_text', 'insult_binary', 'insult'], dtype='object') 92588\n",
      "Index(['id', 'comment_text', 'threat_binary', 'threat'], dtype='object') 2914\n",
      "Index(['id', 'comment_text', 'male_binary', 'male'], dtype='object') 78554\n",
      "Index(['id', 'comment_text', 'female_binary', 'female'], dtype='object') 104080\n",
      "Index(['id', 'comment_text', 'transgender_binary', 'transgender'], dtype='object') 4346\n",
      "Index(['id', 'comment_text', 'other_gender_binary', 'other_gender'], dtype='object') 2\n",
      "Index(['id', 'comment_text', 'heterosexual_binary', 'heterosexual'], dtype='object') 1876\n",
      "Index(['id', 'comment_text', 'homosexual_gay_or_lesbian_binary',\n",
      "       'homosexual_gay_or_lesbian'],\n",
      "      dtype='object') 20580\n",
      "Index(['id', 'comment_text', 'bisexual_binary', 'bisexual'], dtype='object') 282\n",
      "Index(['id', 'comment_text', 'other_sexual_orientation_binary',\n",
      "       'other_sexual_orientation'],\n",
      "      dtype='object') 2\n",
      "Index(['id', 'comment_text', 'christian_binary', 'christian'], dtype='object') 68778\n",
      "Index(['id', 'comment_text', 'jewish_binary', 'jewish'], dtype='object') 15126\n",
      "Index(['id', 'comment_text', 'muslim_binary', 'muslim'], dtype='object') 40486\n",
      "Index(['id', 'comment_text', 'hindu_binary', 'hindu'], dtype='object') 864\n",
      "Index(['id', 'comment_text', 'buddhist_binary', 'buddhist'], dtype='object') 884\n",
      "Index(['id', 'comment_text', 'atheist_binary', 'atheist'], dtype='object') 2764\n",
      "Index(['id', 'comment_text', 'other_religion_binary', 'other_religion'], dtype='object') 100\n",
      "Index(['id', 'comment_text', 'black_binary', 'black'], dtype='object') 28260\n",
      "Index(['id', 'comment_text', 'white_binary', 'white'], dtype='object') 48916\n",
      "Index(['id', 'comment_text', 'asian_binary', 'asian'], dtype='object') 6108\n",
      "Index(['id', 'comment_text', 'latino_binary', 'latino'], dtype='object') 2542\n",
      "Index(['id', 'comment_text', 'other_race_or_ethnicity_binary',\n",
      "       'other_race_or_ethnicity'],\n",
      "      dtype='object') 190\n",
      "Index(['id', 'comment_text', 'physical_disability_binary',\n",
      "       'physical_disability'],\n",
      "      dtype='object') 34\n",
      "Index(['id', 'comment_text', 'intellectual_or_learning_disability_binary',\n",
      "       'intellectual_or_learning_disability'],\n",
      "      dtype='object') 48\n",
      "Index(['id', 'comment_text', 'psychiatric_or_mental_illness_binary',\n",
      "       'psychiatric_or_mental_illness'],\n",
      "      dtype='object') 7026\n"
     ]
    }
   ],
   "source": [
    "for df_att in list_of_df_atts:\n",
    "    print(df_att.columns, len(df_att))"
   ]
  },
  {
   "cell_type": "code",
   "execution_count": 12,
   "metadata": {},
   "outputs": [],
   "source": [
    "unified_dfs = []\n",
    "for df_att in list_of_df_atts:\n",
    "    final_df = df_att.copy()\n",
    "    att = None\n",
    "    for cn in final_df.columns:\n",
    "        if cn.endswith('_binary'):\n",
    "            att = cn\n",
    "            break\n",
    "    final_df['label_type'] = att\n",
    "    final_df.rename(columns={att: 'label_value'}, inplace=True)\n",
    "    final_df.drop(['_'.join(att.split('_')[:-1])], axis=1, inplace=True)\n",
    "    unified_dfs.append(final_df)"
   ]
  },
  {
   "cell_type": "code",
   "execution_count": 13,
   "metadata": {},
   "outputs": [
    {
     "data": {
      "text/plain": [
       "Index(['id', 'comment_text', 'label_value', 'label_type'], dtype='object')"
      ]
     },
     "execution_count": 13,
     "metadata": {},
     "output_type": "execute_result"
    }
   ],
   "source": [
    "unified_dfs[1].columns"
   ]
  },
  {
   "cell_type": "code",
   "execution_count": 14,
   "metadata": {},
   "outputs": [],
   "source": [
    "df_final = pd.concat(unified_dfs)"
   ]
  },
  {
   "cell_type": "code",
   "execution_count": 15,
   "metadata": {},
   "outputs": [],
   "source": [
    "df_final.to_csv('/srv/scratch0/jgoldz/CL-UZH-EDOS-2023/data/JigsawUBiTC/balanced_extract_all_atts.csv')"
   ]
  },
  {
   "cell_type": "code",
   "execution_count": null,
   "metadata": {},
   "outputs": [],
   "source": []
  }
 ],
 "metadata": {
  "kernelspec": {
   "display_name": "venv",
   "language": "python",
   "name": "python3"
  },
  "language_info": {
   "codemirror_mode": {
    "name": "ipython",
    "version": 3
   },
   "file_extension": ".py",
   "mimetype": "text/x-python",
   "name": "python",
   "nbconvert_exporter": "python",
   "pygments_lexer": "ipython3",
   "version": "3.9.2 (default, Feb 28 2021, 17:03:44) \n[GCC 10.2.1 20210110]"
  },
  "orig_nbformat": 4,
  "vscode": {
   "interpreter": {
    "hash": "aef1d6bd59d6a0bcc3c721fcaf21de5648faf37cea1a4e8229460cbe80da46bd"
   }
  }
 },
 "nbformat": 4,
 "nbformat_minor": 2
}
